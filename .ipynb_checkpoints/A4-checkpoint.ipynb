{
 "cells": [
  {
   "cell_type": "markdown",
   "id": "c3355bdd-54e6-4574-8981-de174980ca09",
   "metadata": {},
   "source": [
    "## **Introduction**\n",
    " \n",
    " *Project Question: How do different levels of development impact a country's progress towards clean energy?*\n",
    "\n",
    "## Motivation and Problem Statement\n",
    "\n",
    "This research study is analyzing how different levels of development impact a country's progress towards sustainability, more specifically towards clean energy. The intent of this study is to explore whether developed nations tend to adopt more sustainable practices or whether their high consumption patterns counteract these efforts. As global warming is increasingly impacting our lives and environment more each day, it is important we evaluate how effectively countries are managing their resources and consider ways we can make environmental changes ourselves. This analysis studies the relationship between how sustainability varies across different stages of development, demonstrating whether developed countries are utilizing their resources responsibly or if their consumption patterns have harmful environmental consequences. One of the questions that will be explored is, *are developed countries more likely to have higher percentages of renewable energy consumption compared to developing or underdeveloped countries?*\n",
    "\n",
    "**Hypothesis**: Countries with higher GDP levels and greater development will show a positive correlation with higher renewable energy consumption.  "
   ]
  },
  {
   "cell_type": "markdown",
   "id": "5dcc418c-1708-4485-8616-7b583dadc583",
   "metadata": {},
   "source": [
    "## Related Work\n",
    "\n",
    "Previous research have also explored the relationship between economic development and environment impacts. The Environment Kuznet Curve suggests that pollution rises in early stages of development, then falls as economies mature and prioritize environmental protection. Their hypothesis creates an inverted U-shaped trend, where as a country first develops economically, environmental degradation increases with the rising income, but it reaches a turning point and begins to decrease, creating an inverted U-shaped relationship between economic growth and environmental quality. From this information, I want to explore further in depth and explore how countries at different stages of development manage their energy consumption and environmental impacts. I want to specifically investigate whether more developed countries, which should theoretically have the resources and policies to promote sustainability, are truly adopting renewable energy practices or whether their high energy consumption patterns hinder environmental progress. \n",
    "\n",
    "**Resources**\n",
    "\n",
    "- Environment Kuznet Curve: https://www.sciencedirect.com/topics/social-sciences/environmental-kuznets "
   ]
  },
  {
   "cell_type": "markdown",
   "id": "ea17d7b0-a154-49bf-824f-7ef701481c1a",
   "metadata": {},
   "source": [
    "## **Methodology**\n",
    "\n",
    "### Data Collected\n",
    "\n",
    "One of the datasets that was used for the analysis comes from the World Development Indicators (WDI) - World Bank site. From this site, there are various datasets that can be obtained from the World Bank. It includes a comprehensive set of series across many countries that can determine the development of a country. The set of series covers data on GDP, Human Development Index (HDI), poverty levels, literacy rates, and access to resources. This site provides quantitative data into the economic and social development levels of numerous countries. For this analysis, the Gross Domestic Product (current US$) data sets was used and compared amongst different countries to determine their development levels. Then, this dataset was used to find any correlations with the renewable energy consumption of countries. However, it is also important to note that some data may be outdated, missing, or inaccurate - particularly for low-income countries where reporting capabilities may be limited. This could potentially lead to skewed or mislearning conclusions about a country’s development or sustainable practices. \n",
    "\n",
    "- **Link to Data:** https://databank.worldbank.org/source/world-development-indicators\n",
    "\n",
    "- **Licensed:** under CC BY 4.0.\n",
    "\n",
    "Another data set that was used is the World Bank - Sustainable Energy for All (SE4ALL) Database. This dataset offers series related to energy access, renewable energy, and energy efficiency across countries. It includes data on renewable energy consumption, electricity access, and clean fuel use. The Renewable Energy Consumption and Total Final Energy consumption datasets were used to compare the amount of renewable energy usage across countries. From doing this comparison, the relationship between levels of country development and clean energy usage were analyzed. With this dataset, investigation of whether developed countries are adopting more clean energy solutions or if their high consumption rates are creating more harm to the environment were explored. Similar to the WDI dataset, SE4ALL data may be limited for certain countries, especially those with lower income or underdeveloped energy infrastructure.\n",
    "\n",
    "- **Link to Data:** https://databank.worldbank.org/source/sustainable-energy-for-all\n",
    "\n",
    "- **License:** under CC BY 4.0."
   ]
  },
  {
   "cell_type": "markdown",
   "id": "2a9bdd1e-f342-4457-800f-1cc7fd4f37cd",
   "metadata": {},
   "source": [
    "### Data Cleaning\n",
    "\n",
    "The GDP (current $) dataset includes data for 217 countries, while the clean energy consumption dataset contains data for 230 countries. Both datasets also had some missing, or values that cannot be used. Before beginning any data coding or analysis, it is essential to clean and the datasets to ensure alignment. In this section, I will outline the steps I took to clean and harmonize these datasets, ensuring they are compatible for accurate analysis and meaningful insights."
   ]
  },
  {
   "cell_type": "markdown",
   "id": "2ea77bb5-302c-4054-a171-9b0b71cbfbc2",
   "metadata": {},
   "source": [
    "To clean the data using codes, I loaded the datasets and stripped any white spaces and converted all letters to lower case. This ensured that both datasets have a consistent format, which is important for data merging and comparison for later on. "
   ]
  },
  {
   "cell_type": "code",
   "execution_count": 53,
   "id": "308ecec9-a5bb-4e48-9029-9f6243177b5d",
   "metadata": {},
   "outputs": [],
   "source": [
    "import pandas as pd\n",
    "\n",
    "# Load the datasets\n",
    "gdp_data = pd.read_csv('GDP2015_currentUS_WDI.csv')  # Replace with your original GDP file path\n",
    "energy_data = pd.read_csv('cleanenergyconsumption2015_data.csv')  # Replace with your original energy file path\n",
    "\n",
    "\n",
    "# Clean the 'Country' column to match\n",
    "gdp_data['Country'] = gdp_data['Country Name'].str.strip().str.lower()\n",
    "energy_data['Country'] = energy_data['Country Name'].str.strip().str.lower()"
   ]
  },
  {
   "cell_type": "markdown",
   "id": "7968fdef-0bd9-4952-9c3e-635ce9814e40",
   "metadata": {},
   "source": [
    "Next, I removed of duplicates in each data set and any entries that are invalid in the GDP and clean energy data sets. Invalid data from clean energy data consisted of rows where both TFEC and Renewable Energy Consumption are 0 in the clean energy data set. Invalid data from GDP data set consists of GDP that do not exist, or not numerical. Duplicates and invalid data removal are essential in ensuring that both data sets are consistent and aligned. "
   ]
  },
  {
   "cell_type": "code",
   "execution_count": 55,
   "id": "55de0050-45b3-47bb-8a35-f965e5664205",
   "metadata": {},
   "outputs": [],
   "source": [
    "# Remove duplicates\n",
    "gdp_data = gdp_data.drop_duplicates()\n",
    "energy_data = energy_data.drop_duplicates()\n",
    "\n",
    "# Ensure GDP column does not contain invalid entries\n",
    "gdp_data['GDP (current US$) [NY.GDP.MKTP.CD]'] = gdp_data['GDP (current US$) [NY.GDP.MKTP.CD]'].astype(str)\n",
    "gdp_data['GDP (current US$) [NY.GDP.MKTP.CD]'] = gdp_data['GDP (current US$) [NY.GDP.MKTP.CD]'].replace(['...', '..'], pd.NA)\n",
    "gdp_data['GDP (current US$) [NY.GDP.MKTP.CD]'] = pd.to_numeric(gdp_data['GDP (current US$) [NY.GDP.MKTP.CD]'], errors='coerce')\n",
    "gdp_data_cleaned = gdp_data.dropna(subset=['GDP (current US$) [NY.GDP.MKTP.CD]'])\n",
    "\n",
    "# Remove rows where both TFEC and Renewable Energy Consumption are 0\n",
    "energy_data_cleaned = energy_data[\n",
    "    ~((energy_data['Total final energy consumption (TFEC) '] == 0) & \n",
    "      (energy_data['Renewable energy consumption'] == 0))\n",
    "]\n"
   ]
  },
  {
   "cell_type": "markdown",
   "id": "1d83d5e9-3322-4f13-8f96-63f62ed90933",
   "metadata": {},
   "source": [
    "Filtering the data sets to include only countries that are present in the GDP and clean energy data are also conducted, especially after cleaning up both data sets. This was the last step of cleaning up both data sets before merging and saving the cleaned data sets into different files. Doing this ensures that both data sets to not only have the same countries, but also to have the same quantity of countries. "
   ]
  },
  {
   "cell_type": "code",
   "execution_count": 56,
   "id": "48d6ade0-4861-4789-905b-31e69e6d2c85",
   "metadata": {},
   "outputs": [],
   "source": [
    "# Filter to common countries\n",
    "common_countries = set(gdp_data_cleaned['Country']).intersection(energy_data_cleaned['Country'])\n",
    "gdp_data_final = gdp_data_cleaned[gdp_data_cleaned['Country'].isin(common_countries)]\n",
    "energy_data_final = energy_data_cleaned[energy_data_cleaned['Country'].isin(common_countries)]"
   ]
  },
  {
   "cell_type": "markdown",
   "id": "fb917787-3fbd-4b9b-81ab-0edf0e5aaa72",
   "metadata": {},
   "source": [
    "For my last time, I merging both cleaned datasets code below, and saved them into different csv files. "
   ]
  },
  {
   "cell_type": "code",
   "execution_count": 59,
   "id": "65eaee52-4888-44f4-b80e-d3c6354eac64",
   "metadata": {},
   "outputs": [
    {
     "name": "stdout",
     "output_type": "stream",
     "text": [
      "Cleaned and merged datasets have been saved to new CSV files.\n"
     ]
    }
   ],
   "source": [
    "# Merge datasets\n",
    "merged_data = pd.merge(gdp_data_final, energy_data_final, on='Country')\n",
    "\n",
    "# Save the cleaned datasets\n",
    "gdp_data_final.to_csv('updated_gdp_data.csv', index=False)\n",
    "energy_data_final.to_csv('updated_energy_data.csv', index=False)\n",
    "\n",
    "\n",
    "# Save the cleaned merged dataset\n",
    "merged_data.to_csv('merged_data.csv', index=False)\n",
    "\n",
    "print(\"Cleaned and merged datasets have been saved to new CSV files.\")"
   ]
  },
  {
   "cell_type": "code",
   "execution_count": 67,
   "id": "db898520-c4b2-4798-b63e-e02aad82f7d6",
   "metadata": {},
   "outputs": [
    {
     "name": "stdout",
     "output_type": "stream",
     "text": [
      "Number of countries in updated GDP data: 202\n",
      "Number of countries in updated clean energy data: 202\n"
     ]
    }
   ],
   "source": [
    "# Print the number of rows (countries) in both datasets\n",
    "print(f\"Number of countries in updated GDP data: {gdp_data_final.shape[0]}\")\n",
    "print(f\"Number of countries in updated clean energy data: {energy_data_final.shape[0]}\")"
   ]
  },
  {
   "cell_type": "markdown",
   "id": "1f6e8e10-b36e-440d-bfd4-4597ee9d19ed",
   "metadata": {},
   "source": [
    "Now, both the cleaned GDP and clean energy data sets have the same quantity of data (202) and the same countries. Cleaning the datasets removed any duplicates and invalid data that may result in inaccurate analysis and comparison conflictions. "
   ]
  },
  {
   "cell_type": "markdown",
   "id": "1c10906f-b878-4efe-8779-817bf2050667",
   "metadata": {},
   "source": [
    "### Data Coding\n",
    "\n",
    "#### Number Country Code\n",
    "\n",
    "After cleaning up my data, I directly coded my data. This allowed me to transform categorical variables, such as country names, into a numberical format so that both datasets can be easy to analyzed and compared. By assigning numerical codes to each country, it is more efficient to link and organize different datasets. This enabled higher accuracy and consistency of the analysis throughout my research. Coding operations, such as sorting, ranking, and merging data sets were conducted to break down my data into numerical formatting.  "
   ]
  },
  {
   "cell_type": "markdown",
   "id": "64a29b37-a3f2-415e-bddd-ee0666695cca",
   "metadata": {},
   "source": [
    "I begun by numbering each country, starting at the very top of the merged data file, from  number 1 in ascending order. To store this data for reference, I saved the new country code into a csv file named 'code_country_data'."
   ]
  },
  {
   "cell_type": "code",
   "execution_count": 73,
   "id": "05897360-c287-4e7b-aba2-a73b90af33d9",
   "metadata": {},
   "outputs": [
    {
     "name": "stdout",
     "output_type": "stream",
     "text": [
      "Country code data has been saved to 'code_country_data.csv'.\n"
     ]
    }
   ],
   "source": [
    "# Create a new column 'Number Country Code' with ascending numbers starting from 1\n",
    "merged_data['Number Country Code'] = range(1, len(merged_data) + 1)\n",
    "\n",
    "# Create a new DataFrame with 'Country Name' and 'Number Country Code'\n",
    "country_code_data = merged_data[['Country', 'Number Country Code']].copy()\n",
    "\n",
    "# Save the new country code data to a CSV file\n",
    "country_code_data.to_csv('code_country_data.csv', index=False)\n",
    "\n",
    "print(\"Country code data has been saved to 'code_country_data.csv'.\")"
   ]
  },
  {
   "cell_type": "markdown",
   "id": "9c7dabc7-aa06-476e-95b7-7704cee09e46",
   "metadata": {},
   "source": [
    "In my next step, I merged all relevant variables into a final file, and created a GDP ranking. The GDP data is sorted in ascending order, with the GDP rank assigned based on the smallest GDP value, starting from 1. The final dataset includes four columns: the number country code, GDP value, total renewable energy percentage, and GDP rank. The number country code refers to the unique code assigned to each country in the code_country_data file, making it easier to reference countries without spelling out their full names. The GDP rank corresponds to the country's GDP, and the total renewable energy percentage is linked to the respective country. This structure enables a clear comparison between GDP and clean energy progress, facilitating the creation of scatter plots for visual analysis to identify emerging trends between GDP (as a measure of country development) and progress toward clean energy adoption."
   ]
  },
  {
   "cell_type": "markdown",
   "id": "28f0f712-b206-4cdf-b98c-b7034ed08662",
   "metadata": {},
   "source": [
    "#### GDP Ranking\n",
    "\n",
    "I first load the code_country_data file, which contains the country codes that I need. Then, I merge the GDP and clean energy datasets with this country code data based on the common 'Country' column, creating a unified dataset with all relevant information. This ensured that each country is properly linked to its GDP, energy consumption data, and corresponding country code."
   ]
  },
  {
   "cell_type": "code",
   "execution_count": 75,
   "id": "1e2f79a5-fa8f-49c9-8f09-7f54eea764c5",
   "metadata": {},
   "outputs": [],
   "source": [
    "import pandas as pd\n",
    "\n",
    "# Load the code_country_data file which contains the Number Country Code\n",
    "country_code_data = pd.read_csv('code_country_data.csv')  # Adjust the path as necessary\n",
    "\n",
    "# Merge the datasets on 'Country'\n",
    "merged_data = pd.merge(gdp_data_final, energy_data_final, on='Country')\n",
    "\n",
    "# Merge the country code data with the merged data\n",
    "merged_data_with_codes = pd.merge(merged_data, country_code_data, on='Country')"
   ]
  },
  {
   "cell_type": "markdown",
   "id": "f12ad69b-0479-4322-997f-7b027b5ca548",
   "metadata": {},
   "source": [
    "Next, I merged dataset by GDP in ascending order, ensuring that the country with the smallest GDP comes first. I then added a new column named, 'GDP Rank', where each country is assigned a rank starting from 1 for the smallest GDP, and the rank increases in order of GDP value."
   ]
  },
  {
   "cell_type": "code",
   "execution_count": 76,
   "id": "4b879810-6f54-48ca-bf4d-483c54e86d32",
   "metadata": {},
   "outputs": [],
   "source": [
    "# Sort the data by GDP in ascending order (smallest GDP first)\n",
    "merged_data_sorted = merged_data_with_codes.sort_values(by='GDP (current US$) [NY.GDP.MKTP.CD]', ascending=True)\n",
    "\n",
    "# Add a 'GDP Rank' column, where 1 is the smallest GDP\n",
    "merged_data_sorted['GDP Rank'] = range(1, len(merged_data_sorted) + 1)"
   ]
  },
  {
   "cell_type": "markdown",
   "id": "5223bdc5-555f-4715-b36a-da0b7ec056ec",
   "metadata": {},
   "source": [
    "For my last step in data coding, I made sure to include all relevant columns for analyzing and comparsion. These columns include:\n",
    "- Number Country Code\n",
    "- GDP (current US$) [NY.GDP.MKTP.CD]\n",
    "- Total Renewable Energy Percentage\n",
    "- GDP Rank\n",
    "\n",
    "And I saved all my final data and coding into a new file named, 'final_country_data_with_co"
   ]
  },
  {
   "cell_type": "code",
   "execution_count": 77,
   "id": "2106e475-add9-43d1-b730-4e62cfdf0ac4",
   "metadata": {},
   "outputs": [
    {
     "name": "stdout",
     "output_type": "stream",
     "text": [
      "The new CSV file with the required data has been saved as 'final_country_data_with_codes.csv'.\n"
     ]
    }
   ],
   "source": [
    "# Select the relevant columns\n",
    "final_data = merged_data_sorted[['Number Country Code', 'GDP (current US$) [NY.GDP.MKTP.CD]', 'Total Renewable Energy Percentage', 'GDP Rank']]\n",
    "\n",
    "# Save the final data to a new CSV file\n",
    "final_data.to_csv('final_country_data_with_codes.csv', index=False)\n",
    "\n",
    "print(\"The new CSV file with the required data has been saved as 'final_country_data_with_codes.csv'.\")\n"
   ]
  },
  {
   "cell_type": "markdown",
   "id": "dfd672f2-c93a-46d6-9d17-783d7708ba7f",
   "metadata": {},
   "source": [
    "### Data Analysis\n",
    "\n",
    "To analyze both datasets, a correlation and comparison analysis was conducted to explore the relationships between Country Development (measured by GDP) and the Total Percentage of Renewable Energy Consumption across each country and the various levels of development. The Total Percentage of Renewable Energy Consumption was calculated for each country by dividing the Renewable Energy Consumption by the Total Final Energy Consumption. Identifying the relationships between these two data sets allowed observations of emerging trends. \n",
    "\n",
    "Driven by the datasets, a scatter plots was created to illustrate the visual relationship between the GDP of a country and their Percentage of Renewable Energy Consumption. The independent variable (x-axis) represented the GDP ranking, which in this case represents the economic development of a country (1 being the lowest economic development). The dependent variable (y-axis) represented the Total Percentage of Renewable Energy Consumption. This variable represents how much energy is coming from renewable sources in a country. The visualization of this scatter plot allows the audience to see the trends and correlations between the development levels of a country and their renewable energy consumption."
   ]
  },
  {
   "cell_type": "markdown",
   "id": "81461764-107b-4f38-88d7-4df95e11b222",
   "metadata": {},
   "source": [
    "** Put graphic visual here **"
   ]
  },
  {
   "cell_type": "markdown",
   "id": "7b820996-bfdf-41c1-8ba3-70fc7af10e95",
   "metadata": {},
   "source": [
    "** Put graphic visual here **"
   ]
  },
  {
   "cell_type": "markdown",
   "id": "64b14f98-141c-48d3-8578-d35ce4f27b3d",
   "metadata": {},
   "source": [
    "## Findings\n",
    "\n",
    "The findings from the study are clearly presented and are discussed in detail, and the relationship between the findings and the original research questions or hypotheses is made clear."
   ]
  },
  {
   "cell_type": "markdown",
   "id": "15127842-d4f9-4c81-b433-5ababeabe583",
   "metadata": {},
   "source": [
    "## Analysis Conclusion\n",
    "\n",
    "Side note: Summarize the findings, and what they mean (implications for business, design, further research, public policy, etc). "
   ]
  },
  {
   "cell_type": "markdown",
   "id": "3527d69b-867b-41b8-bc4a-e5148901d5c6",
   "metadata": {},
   "source": [
    "## Limitations"
   ]
  },
  {
   "cell_type": "markdown",
   "id": "04acd5fc-4a5d-40d9-bcc8-3c2b0d25dcc6",
   "metadata": {},
   "source": [
    "## Unknowns and Dependencies\n",
    "\n",
    "During this analysis, it is important to note that some countries may have incomplete or outdated data, especially in lower-income or more conflicting nations. These gaps could impact the accuracy of the analysis."
   ]
  },
  {
   "cell_type": "code",
   "execution_count": null,
   "id": "2cc69a06-0777-4830-b816-03016697e5c3",
   "metadata": {},
   "outputs": [],
   "source": []
  }
 ],
 "metadata": {
  "kernelspec": {
   "display_name": "Python 3 (ipykernel)",
   "language": "python",
   "name": "python3"
  },
  "language_info": {
   "codemirror_mode": {
    "name": "ipython",
    "version": 3
   },
   "file_extension": ".py",
   "mimetype": "text/x-python",
   "name": "python",
   "nbconvert_exporter": "python",
   "pygments_lexer": "ipython3",
   "version": "3.10.13"
  }
 },
 "nbformat": 4,
 "nbformat_minor": 5
}
