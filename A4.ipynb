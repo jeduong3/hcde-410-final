{
 "cells": [
  {
   "cell_type": "markdown",
   "id": "c3355bdd-54e6-4574-8981-de174980ca09",
   "metadata": {},
   "source": [
    "# Motivation and problem statement:\n",
    "text\n",
    "# Data selected for analysis:\n",
    "text\n",
    "# Unknowns and dependencies: \n",
    "text"
   ]
  },
  {
   "cell_type": "code",
   "execution_count": null,
   "id": "39ece900-79a4-4402-84e7-6c3a7e7f37b6",
   "metadata": {},
   "outputs": [],
   "source": []
  }
 ],
 "metadata": {
  "kernelspec": {
   "display_name": "Python 3 (ipykernel)",
   "language": "python",
   "name": "python3"
  },
  "language_info": {
   "codemirror_mode": {
    "name": "ipython",
    "version": 3
   },
   "file_extension": ".py",
   "mimetype": "text/x-python",
   "name": "python",
   "nbconvert_exporter": "python",
   "pygments_lexer": "ipython3",
   "version": "3.10.13"
  }
 },
 "nbformat": 4,
 "nbformat_minor": 5
}
