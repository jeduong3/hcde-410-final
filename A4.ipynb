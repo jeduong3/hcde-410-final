{
 "cells": [
  {
   "cell_type": "markdown",
   "id": "c3355bdd-54e6-4574-8981-de174980ca09",
   "metadata": {},
   "source": [
    " ***Project Question: How do different levels of development impact a country's progress towards clean energy?***\n",
    "\n",
    "## **Motivation and Problem Statement**\n",
    "\n",
    "This project will be analyzing how different levels of development impact a country's progress towards sustainability, more specifically towards clean energy. This research will be exploring whether developed nations tend to adopt more sustainable practices or whether their high consumption patterns counteract these efforts. As global warming is increasingly impacting our lives and environment more each day, it is important we evaluate how effectively countries are managing their resources and consider ways we can make environmental changes ourselves. This analysis will study the relationship between how sustainability varies across different stages of development, demonstrating whether developed countries are utilizing their resources responsibly or if their consumption patterns have harmful environmental consequences. One of the questions that will be explored is, *are developed countries more likely to have higher percentages of renewable energy consumption compared to developing or underdeveloped countries?*\n",
    "\n",
    "Hypothesis: Countries with higher GDP levels and greater development will show a positive correlation with higher renewable energy consumption. \n",
    "\n",
    "## **Background and Related Work**\n",
    "\n",
    "Previous research have also explored the relationship between economic development and environment impacts. The Environment Kuznet Curve suggests that pollution rises in early stages of development, then falls as economies mature and prioritize environmental protection. Their hypothesis creates an inverted U-shaped trend, where as a country first develops economically, environmental degradation increases with the rising income, but it reaches a turning point and begins to decrease, creating an inverted U-shaped relationship between economic growth and environmental quality. From this information, I want to explore further in depth and explore how countries at different stages of development manage their energy consumption and environmental impacts. I want to specifically investigate whether more developed countries, which should theoretically have the resources and policies to promote sustainability, are truly adopting renewable energy practices or whether their high energy consumption patterns hinder environmental progress. \n",
    "\n",
    "**Resources**\n",
    "\n",
    "Environment Kuznet Curve: https://www.sciencedirect.com/topics/social-sciences/environmental-kuznets \n",
    "\n",
    "## **Methodology**\n",
    "\n",
    "#### **Data Collected** \n",
    "\n",
    "One of the datasets that will be used for the analysis comes from the World Development Indicators (WDI) - World Bank site. There are various datasets that can be obtained from the World Bank. It includes a comprehensive set of series across numerous countries that can determine the development of a country. The set of series covers data on GDP, Human Development Index (HDI), poverty levels, literacy rates, and access to resources. This site provides quantitative data into the economic and social development levels of various countries. For this analysis, the Gross Domestic Product (current US$) data sets will be used and compared amongst different countries to determine their development levels, and then used to find the correlation with renewable energy consumption. However, it is also important to note that some data may be outdated, missing, or inaccurate - particularly for low-income countries where reporting capabilities may be limited. This could potentially lead to skewed or mislearning conclusions about a country’s development or sustainable practices. \n",
    "\n",
    "**Link to Data:** https://databank.worldbank.org/source/world-development-indicators\n",
    "\n",
    "**Licensed:** under CC BY 4.0.\n",
    "\n",
    "Another data set that will be used is the World Bank - Sustainable Energy for All (SE4ALL) Database. This dataset offers series related to energy access, renewable energy, and energy efficiency across countries. It includes data on renewable energy consumption, electricity access, and clean fuel use. The Renewable Energy Consumption and Total Final Energy consumption will specifically be used to compare the amount of renewable energy usage across countries. From doing this comparison, the relationship between levels of country development can influence clean energy usage can be analyzed. With this data, investigation of whether developed countries are adopting more clean energy solutions or if their high consumption rates are creating more harm to the environment can be explored . Similar to the WDI dataset, SE4ALL data may be limited for certain countries, especially those with lower income or underdeveloped energy infrastructure.\n",
    "\n",
    "**Link to Data:** https://databank.worldbank.org/source/sustainable-energy-for-all\n",
    "\n",
    "**License:** under CC BY 4.0.\n",
    "\n",
    "#### **Data Analysis**\n",
    "\n",
    "To analyze both datasets, a correlation and comparison analysis will be conducted to explore the relationships between country development (measured by GDP) and the total percentage of renewable energy consumption across various levels of development. Identifying the relationships between these two data sets will allow us to observe emerging trends. Data Presentation Scatter plots will be used to illustrate the visual relationship between the GDP of a country and their percentage of renewable energy consumption. The independent variable (x-axis) will represent the GDP, which in this case represents the economic development of a country. The dependent variable (y-axis) will represent the renewable energy consumption as a percentage. This variable will show how much energy is coming from renewable sources in a country. This scatter plot will allow the audience to visually see the trends and correlations between the development levels of a country and their renewable energy consumption. \n",
    "\n",
    "## **Unknowns and Dependencies**\n",
    "\n",
    "During this analysis, it is important to note that some countries may have incomplete or outdated data, especially in lower-income or more conflicting nations. These gaps could impact the accuracy of the analysis. "
   ]
  },
  {
   "cell_type": "code",
   "execution_count": null,
   "id": "18e454c7-1349-4c48-854f-f76c90156947",
   "metadata": {},
   "outputs": [],
   "source": []
  }
 ],
 "metadata": {
  "kernelspec": {
   "display_name": "Python 3 (ipykernel)",
   "language": "python",
   "name": "python3"
  },
  "language_info": {
   "codemirror_mode": {
    "name": "ipython",
    "version": 3
   },
   "file_extension": ".py",
   "mimetype": "text/x-python",
   "name": "python",
   "nbconvert_exporter": "python",
   "pygments_lexer": "ipython3",
   "version": "3.10.13"
  }
 },
 "nbformat": 4,
 "nbformat_minor": 5
}
