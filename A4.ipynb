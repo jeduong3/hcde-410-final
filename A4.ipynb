{
 "cells": [
  {
   "cell_type": "markdown",
   "id": "c3355bdd-54e6-4574-8981-de174980ca09",
   "metadata": {},
   "source": [
    "### Project Question: How do different levels of development impact a country's progress towards clean energy? \n",
    "\n",
    "## **Motivation and problem statement**\n",
    "\n",
    "This project will be analyzing how different levels of development impact a country's progress towards sustainability, more specifically towards clean energy. This research will be exploring whether developed nations tend to adopt more sustainable practices or whether their high consumption patterns counteract these efforts. As global warming is increasingly impacting our lives and environment more each day, it is important we evaluate how effectively countries are managing their resources. This analysis will study the relationship between how sustainability varies across different stages of development, demonstrating whether developed countries are utilizing their resources responsibly or if their consumption patterns have harmful  environmental consequences.\n",
    "\n",
    "## **Data selected for analysis**\n",
    "\n",
    "One of the datasets I will be using for my analysis comes from the World Development Indicators (WDI) - World Bank site. There are various datasets that can be obtained  from the World Bank; it includes a comprehensive set of series across numerous countries that can determine the development of a country. It covers data on GDP, Human Development Index (HDI), poverty levels, literacy rates, and access to resources. This site provides in-depth quantitative data into the economic and social development levels of different countries. I will specifically be looking at the Gross Domestic Product (current US$) and comparing it to different countries, which I will use for analyzing their development levels and correlation with sustainable practices. However, it is also important to note that some data may be outdated, missing, or inaccurate - particularly for low-income countries where reporting capabilities may be limited. This could potentially lead to skewed or mislearning conclusions about a country’s development or sustainable practices. \n",
    "Website: https://databank.worldbank.org/source/world-development-indicators (Licensed under CC BY 4.0.)\n",
    "\n",
    "Another data set that I will be looking at is the World Bank - Sustainable Energy for All (SE4ALL) Database. This dataset offers series related to energy access, renewable energy, and energy efficiency across countries. It includes data on renewable energy consumption, electricity access, and clean fuel use. I will be specially looking at the Renewable Energy Consumption and Total Final Energy consumption to compare the amount of renewable energy usage across countries. From doing this comparison, I would be able to see how the levels of development can  influence clean energy usage. With this data, I can explore whether developed countries are adopting more clean energy solutions or if their high consumption rates are creating more harm to the environment. Similar to the WDI dataset, SE4ALL data may be limited for certain countries, especially those with lower income or underdeveloped energy infrastructure.\n",
    "Website: https://databank.worldbank.org/source/sustainable-energy-for-all (Publicly accessible; terms of use are aligned with other World Bank datasets)\n",
    "\n",
    "## **Unknowns and dependencies**\n",
    "\n",
    "During this analysis, it is important to note that some countries may have incomplete or outdated data, especially in lower-income or more conflicting nations. These gaps could impact the accuracy of the analysis. "
   ]
  },
  {
   "cell_type": "code",
   "execution_count": null,
   "id": "0a7b6aac-a09a-4791-97fa-f4d6a09cff1d",
   "metadata": {},
   "outputs": [],
   "source": []
  },
  {
   "cell_type": "code",
   "execution_count": null,
   "id": "2a712a0d-85f1-4758-83ae-af5089df7648",
   "metadata": {},
   "outputs": [],
   "source": []
  }
 ],
 "metadata": {
  "kernelspec": {
   "display_name": "Python 3 (ipykernel)",
   "language": "python",
   "name": "python3"
  },
  "language_info": {
   "codemirror_mode": {
    "name": "ipython",
    "version": 3
   },
   "file_extension": ".py",
   "mimetype": "text/x-python",
   "name": "python",
   "nbconvert_exporter": "python",
   "pygments_lexer": "ipython3",
   "version": "3.10.13"
  }
 },
 "nbformat": 4,
 "nbformat_minor": 5
}
